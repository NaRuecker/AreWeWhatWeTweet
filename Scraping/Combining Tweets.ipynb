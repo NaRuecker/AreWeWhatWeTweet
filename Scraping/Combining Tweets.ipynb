{
 "cells": [
  {
   "cell_type": "code",
   "execution_count": 1,
   "metadata": {},
   "outputs": [],
   "source": [
    "import pandas as pd\n",
    "import glob"
   ]
  },
  {
   "cell_type": "code",
   "execution_count": 2,
   "metadata": {
    "scrolled": false
   },
   "outputs": [
    {
     "name": "stdout",
     "output_type": "stream",
     "text": [
      "WithLocation2013\n",
      "WithLocation2014\n",
      "WithLocation2014\\Loc_HealthyFood_apple_2014-03-01.csv\n",
      "WithLocation2015\n",
      "WithLocation2016\n",
      "WithLocation2017\n",
      "WithLocation2018\n",
      "Total tweets collected: 738800\n",
      "US based tweets: 164947\n",
      "22.33 % remaining.\n"
     ]
    }
   ],
   "source": [
    "folders=['WithLocation2013','WithLocation2014','WithLocation2015','WithLocation2016','WithLocation2017','WithLocation2018']\n",
    "tweet_data=pd.DataFrame()\n",
    "columnsofinterest=['Cat','Year','Query','State','tweet','retweet']\n",
    "totaltweets=0\n",
    "for folder in folders:\n",
    "    path = folder+\"\\*.csv\"\n",
    "    print(folder)\n",
    "    for fname in glob.glob(path):\n",
    "        try:\n",
    "            CSV_name=fname.split('\\\\')[1]\n",
    "            Cat=CSV_name.split('_')[1]\n",
    "            f= pd.read_csv(fname,engine='python')\n",
    "            totaltweets=totaltweets+f.shape[0]\n",
    "            USonly=f[columnsofinterest][f.State!='probably not us']\n",
    "            tweet_data=tweet_data.append(USonly, ignore_index=True)\n",
    "            \n",
    "        except:\n",
    "              print(fname)\n",
    "print('Total tweets collected:',totaltweets)\n",
    "print('US based tweets:', tweet_data.shape[0])\n",
    "print(round(tweet_data.shape[0]/totaltweets,4)*100,'% remaining.')"
   ]
  },
  {
   "cell_type": "code",
   "execution_count": 3,
   "metadata": {},
   "outputs": [],
   "source": [
    "tweet_data.to_csv('USonly_tweet_data.csv')"
   ]
  }
 ],
 "metadata": {
  "kernelspec": {
   "display_name": "Python 3",
   "language": "python",
   "name": "python3"
  },
  "language_info": {
   "codemirror_mode": {
    "name": "ipython",
    "version": 3
   },
   "file_extension": ".py",
   "mimetype": "text/x-python",
   "name": "python",
   "nbconvert_exporter": "python",
   "pygments_lexer": "ipython3",
   "version": "3.6.5"
  },
  "toc": {
   "base_numbering": 1,
   "nav_menu": {},
   "number_sections": true,
   "sideBar": true,
   "skip_h1_title": false,
   "title_cell": "Table of Contents",
   "title_sidebar": "Contents",
   "toc_cell": false,
   "toc_position": {},
   "toc_section_display": true,
   "toc_window_display": false
  },
  "varInspector": {
   "cols": {
    "lenName": 16,
    "lenType": 16,
    "lenVar": 40
   },
   "kernels_config": {
    "python": {
     "delete_cmd_postfix": "",
     "delete_cmd_prefix": "del ",
     "library": "var_list.py",
     "varRefreshCmd": "print(var_dic_list())"
    },
    "r": {
     "delete_cmd_postfix": ") ",
     "delete_cmd_prefix": "rm(",
     "library": "var_list.r",
     "varRefreshCmd": "cat(var_dic_list()) "
    }
   },
   "types_to_exclude": [
    "module",
    "function",
    "builtin_function_or_method",
    "instance",
    "_Feature"
   ],
   "window_display": false
  }
 },
 "nbformat": 4,
 "nbformat_minor": 2
}
